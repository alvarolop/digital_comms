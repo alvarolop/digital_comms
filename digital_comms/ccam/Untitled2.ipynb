{
 "cells": [
  {
   "cell_type": "code",
   "execution_count": 1,
   "metadata": {
    "collapsed": false
   },
   "outputs": [],
   "source": [
    "#How to do aggregates using groupby, defaultdict and Counter on flat files\n",
    "#This Example computes groups for:\n",
    "#region, count(region), sum(sales), avg(sales), max(sales), min(sales)\n",
    "#\n",
    "#By Nestor Nissen\n",
    "\n",
    "#from csv import DictReader\n",
    "from operator import itemgetter\n",
    "from itertools import groupby\n",
    "#from collections import defaultdict, Counter\n"
   ]
  },
  {
   "cell_type": "code",
   "execution_count": null,
   "metadata": {
    "collapsed": true
   },
   "outputs": [],
   "source": [
    "\n",
    "rawdata = '''\n",
    "pcd_sector_id,technology,cells\n",
    "1,LTE,5\n",
    "2,LTE-A,3\n",
    "2,LTE,7\n",
    "3,LTE,3\n",
    "'''.splitlines()[1:]\n",
    "print(rawdata)"
   ]
  },
  {
   "cell_type": "code",
   "execution_count": null,
   "metadata": {
    "collapsed": false
   },
   "outputs": [],
   "source": [
    "indata = list(DictReader(rawdata))\n",
    "print(indata)"
   ]
  },
  {
   "cell_type": "code",
   "execution_count": null,
   "metadata": {
    "collapsed": false
   },
   "outputs": [],
   "source": [
    "print('Using sort and groupby:')\n",
    "\n",
    "counts = []\n",
    "sums = []\n",
    "ordered_data = sorted(indata, key=itemgetter('pcd_sector_id'))\n",
    "for pcd_sector_id, group in groupby(ordered_data, key=itemgetter('pcd_sector_id')):\n",
    "    group_list = list(group)\n",
    "    count = sum(1 for technology in group_list)\n",
    "    counts.append((pcd_sector_id, count))\n",
    "    sums.append((pcd_sector_id, total))\n",
    "print('count:',counts, '\\nsum:',sums)\n"
   ]
  },
  {
   "cell_type": "code",
   "execution_count": null,
   "metadata": {
    "collapsed": false
   },
   "outputs": [],
   "source": [
    "print('Using defaultdict:')\n",
    "dd_counts = defaultdict(int)\n",
    "dd_cells = defaultdict(int)\n",
    "dd_maxs = defaultdict(int)\n",
    "dd_mins = defaultdict(lambda: 9**99)\n",
    "for row in indata:\n",
    "    pcd_sector_id = row['pcd_sector_id']\n",
    "    cells = int(row['cells'])\n",
    "    dd_counts[pcd_sector_id] += 1\n",
    "    dd_cells[pcd_sector_id] += cells\n",
    "    dd_maxs[pcd_sector_id] = max(dd_maxs[pcd_sector_id], cells)\n",
    "    dd_mins[pcd_sector_id] = min(dd_mins[pcd_sector_id], cells)\n",
    "counts = list(dd_counts.items())\n",
    "sums = list(dd_cells.items())\n",
    "avgs = [(key, dd_cells[key]/count) for key, count in dd_counts.items()]\n",
    "maxs = list(dd_maxs.items())\n",
    "mins = list(dd_mins.items())\n",
    "print('count:',counts, '\\nsum:',sums, '\\navg:',avgs,\n",
    "      '\\nmax:',maxs, '\\nmin:',mins, '\\n')\n"
   ]
  },
  {
   "cell_type": "code",
   "execution_count": null,
   "metadata": {
    "collapsed": false
   },
   "outputs": [],
   "source": [
    "print('Using counter:')\n",
    "counts = list(Counter(map(itemgetter('pcd_sector_id'), indata)).items())\n",
    "print('count:',counts)"
   ]
  },
  {
   "cell_type": "code",
   "execution_count": null,
   "metadata": {
    "collapsed": true
   },
   "outputs": [],
   "source": [
    "from operator import itemgetter\n",
    "from itertools import groupby"
   ]
  },
  {
   "cell_type": "code",
   "execution_count": 2,
   "metadata": {
    "collapsed": true
   },
   "outputs": [],
   "source": [
    "assets = [\n",
    "{\n",
    "\"type\": \"site\",\n",
    "\"pcd_sector_id\": 1,\n",
    "\"cells\": 3,\n",
    "\"technology\": \"LTE\"\n",
    "},\n",
    "    {\n",
    "\"type\": \"site\",\n",
    "\"pcd_sector_id\": 1,\n",
    "\"cells\": 3,\n",
    "\"technology\": \"LTE-Advanced\"\n",
    "},\n",
    "{\n",
    "\"type\": \"site\",\n",
    "\"pcd_sector_id\": 1,\n",
    "\"cells\": 2,\n",
    "\"technology\": \"LTE-Advanced\"\n",
    "},    \n",
    "{\n",
    "\"type\": \"site\",\n",
    "\"pcd_sector_id\": 2,\n",
    "\"cells\": 5,\n",
    "\"technology\": \"LTE-Advanced\"\n",
    "},\n",
    "{\n",
    "\"type\": \"site\",\n",
    "\"pcd_sector_id\": 2,\n",
    "\"cells\": 3,\n",
    "\"technology\": \"LTE\"\n",
    "},\n",
    "{\n",
    "\"type\": \"site\",\n",
    "\"pcd_sector_id\": 3,\n",
    "\"cells\": 3,\n",
    "\"technology\": \"LTE\"\n",
    "},\n",
    "{\n",
    "\"type\": \"site\",\n",
    "\"pcd_sector_id\": 3,\n",
    "\"cells\": 5,\n",
    "\"technology\": \"LTE-Advanced\"\n",
    "}    \n",
    "]\n"
   ]
  },
  {
   "cell_type": "code",
   "execution_count": 4,
   "metadata": {
    "collapsed": false
   },
   "outputs": [
    {
     "name": "stdout",
     "output_type": "stream",
     "text": [
      "sum: [(1, 8), (2, 8), (3, 8), (1, 8), (2, 8), (3, 8)]\n"
     ]
    }
   ],
   "source": [
    "#counts = []\n",
    "#system = []\n",
    "ordered_data = sorted(assets, key=itemgetter('pcd_sector_id'))\n",
    "for pcd_sector_id, group in groupby(ordered_data, key=itemgetter('pcd_sector_id')):\n",
    "    group_list = list(group)\n",
    "#    count = sum(1 for technology in group_list)\n",
    "    #counts.append((pcd_sector_id, count))\n",
    "    total = sum(int(technology['cells']) for technology in group_list)\n",
    "    system.append((pcd_sector_id, total))\n",
    "print('sum:',system)"
   ]
  },
  {
   "cell_type": "code",
   "execution_count": null,
   "metadata": {
    "collapsed": true
   },
   "outputs": [],
   "source": []
  }
 ],
 "metadata": {
  "anaconda-cloud": {},
  "kernelspec": {
   "display_name": "Python [conda root]",
   "language": "python",
   "name": "conda-root-py"
  },
  "language_info": {
   "codemirror_mode": {
    "name": "ipython",
    "version": 3
   },
   "file_extension": ".py",
   "mimetype": "text/x-python",
   "name": "python",
   "nbconvert_exporter": "python",
   "pygments_lexer": "ipython3",
   "version": "3.5.2"
  }
 },
 "nbformat": 4,
 "nbformat_minor": 1
}
