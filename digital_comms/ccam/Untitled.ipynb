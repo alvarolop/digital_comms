{
 "cells": [
  {
   "cell_type": "code",
   "execution_count": 1,
   "metadata": {
    "collapsed": true
   },
   "outputs": [],
   "source": [
    "import itertools"
   ]
  },
  {
   "cell_type": "code",
   "execution_count": 2,
   "metadata": {
    "collapsed": true
   },
   "outputs": [],
   "source": [
    "data1 = [100,85,80,80,80,80,90,90,80,85,85]"
   ]
  },
  {
   "cell_type": "code",
   "execution_count": 3,
   "metadata": {
    "collapsed": false
   },
   "outputs": [
    {
     "name": "stdout",
     "output_type": "stream",
     "text": [
      "[80, 80, 80, 80, 80, 85, 85, 85, 90, 90, 100]\n"
     ]
    }
   ],
   "source": [
    "keys = []\n",
    "groups = []\n",
    "sorted_data1 = sorted(data1)\n",
    "print(sorted_data1)"
   ]
  },
  {
   "cell_type": "code",
   "execution_count": 4,
   "metadata": {
    "collapsed": false
   },
   "outputs": [
    {
     "name": "stdout",
     "output_type": "stream",
     "text": [
      "('groups', [[80, 80, 80, 80, 80], [85, 85, 85], [90, 90], [100]])\n"
     ]
    }
   ],
   "source": [
    "for k, g in itertools.groupby(sorted_data1):\n",
    "    keys.append(k)\n",
    "    groups.append(list(g))\n",
    "\n",
    "print('groups', groups)        "
   ]
  },
  {
   "cell_type": "code",
   "execution_count": 5,
   "metadata": {
    "collapsed": false
   },
   "outputs": [
    {
     "name": "stdout",
     "output_type": "stream",
     "text": [
      "('keys', [80, 85, 90, 100])\n"
     ]
    }
   ],
   "source": [
    "print('keys',keys)"
   ]
  },
  {
   "cell_type": "code",
   "execution_count": 9,
   "metadata": {
    "collapsed": false
   },
   "outputs": [
    {
     "name": "stdout",
     "output_type": "stream",
     "text": [
      "('count_per_group', [5, 3, 2, 1])\n"
     ]
    }
   ],
   "source": [
    "count_per_group = [len(i) for i in groups]\n",
    "print('count_per_group',count_per_group)"
   ]
  },
  {
   "cell_type": "code",
   "execution_count": 10,
   "metadata": {
    "collapsed": false
   },
   "outputs": [
    {
     "name": "stdout",
     "output_type": "stream",
     "text": [
      "{80: 5, 90: 2, 100: 1, 85: 3}\n"
     ]
    }
   ],
   "source": [
    "zip_values = dict(zip(keys, count_per_group))\n",
    "print(zip_values)"
   ]
  },
  {
   "cell_type": "code",
   "execution_count": null,
   "metadata": {
    "collapsed": true
   },
   "outputs": [],
   "source": []
  }
 ],
 "metadata": {
  "anaconda-cloud": {},
  "kernelspec": {
   "display_name": "Python [conda root]",
   "language": "python",
   "name": "conda-root-py"
  },
  "language_info": {
   "codemirror_mode": {
    "name": "ipython",
    "version": 2
   },
   "file_extension": ".py",
   "mimetype": "text/x-python",
   "name": "python",
   "nbconvert_exporter": "python",
   "pygments_lexer": "ipython2",
   "version": "2.7.12"
  }
 },
 "nbformat": 4,
 "nbformat_minor": 1
}
