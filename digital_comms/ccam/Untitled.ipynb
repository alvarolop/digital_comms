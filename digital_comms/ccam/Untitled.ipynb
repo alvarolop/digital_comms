{
 "cells": [
  {
   "cell_type": "code",
   "execution_count": 1,
   "metadata": {
    "collapsed": true
   },
   "outputs": [],
   "source": [
    "import itertools"
   ]
  },
  {
   "cell_type": "code",
   "execution_count": 2,
   "metadata": {
    "collapsed": true
   },
   "outputs": [],
   "source": [
    "data1 = [100,85,80,80,80,80,90,90,80,85,85]"
   ]
  },
  {
   "cell_type": "code",
   "execution_count": 3,
   "metadata": {
    "collapsed": false
   },
   "outputs": [
    {
     "name": "stdout",
     "output_type": "stream",
     "text": [
      "[80, 80, 80, 80, 80, 85, 85, 85, 90, 90, 100]\n"
     ]
    }
   ],
   "source": [
    "keys = []\n",
    "groups = []\n",
    "sorted_data1 = sorted(data1)\n",
    "print(sorted_data1)"
   ]
  },
  {
   "cell_type": "code",
   "execution_count": 4,
   "metadata": {
    "collapsed": false
   },
   "outputs": [
    {
     "name": "stdout",
     "output_type": "stream",
     "text": [
      "('groups', [[80, 80, 80, 80, 80], [85, 85, 85], [90, 90], [100]])\n"
     ]
    }
   ],
   "source": [
    "for k, g in itertools.groupby(sorted_data1):\n",
    "    keys.append(k)\n",
    "    groups.append(list(g))\n",
    "\n",
    "print('groups', groups)        "
   ]
  },
  {
   "cell_type": "code",
   "execution_count": 5,
   "metadata": {
    "collapsed": false
   },
   "outputs": [
    {
     "name": "stdout",
     "output_type": "stream",
     "text": [
      "('keys', [80, 85, 90, 100])\n"
     ]
    }
   ],
   "source": [
    "print('keys',keys)"
   ]
  },
  {
   "cell_type": "code",
   "execution_count": 9,
   "metadata": {
    "collapsed": false
   },
   "outputs": [
    {
     "name": "stdout",
     "output_type": "stream",
     "text": [
      "('count_per_group', [5, 3, 2, 1])\n"
     ]
    }
   ],
   "source": [
    "count_per_group = [len(i) for i in groups]\n",
    "print('count_per_group',count_per_group)"
   ]
  },
  {
   "cell_type": "code",
   "execution_count": 10,
   "metadata": {
    "collapsed": false
   },
   "outputs": [
    {
     "name": "stdout",
     "output_type": "stream",
     "text": [
      "{80: 5, 90: 2, 100: 1, 85: 3}\n"
     ]
    }
   ],
   "source": [
    "zip_values = dict(zip(keys, count_per_group))\n",
    "print(zip_values)"
   ]
  },
  {
   "cell_type": "code",
   "execution_count": 1,
   "metadata": {
    "collapsed": false
   },
   "outputs": [
    {
     "name": "stdout",
     "output_type": "stream",
     "text": [
      "Using sort and groupby:\n",
      "count: [('England', 3), ('Scotland', 2), ('Wales', 2)] \n",
      "sum: [('England', 165300), ('Scotland', 32500), ('Wales', 42500)] \n",
      "avg: [('England', 55100.0), ('Scotland', 16250.0), ('Wales', 21250.0)] \n",
      "max: [('England', 90000), ('Scotland', 20000), ('Wales', 29700)] \n",
      "min: [('England', 29700), ('Scotland', 12500), ('Wales', 12800)] \n",
      "\n"
     ]
    }
   ],
   "source": [
    "from csv import DictReader\n",
    "from operator import itemgetter\n",
    "from itertools import groupby\n",
    "from collections import defaultdict, Counter\n",
    "\n",
    "rawdata = '''\n",
    "Region,City,Sales\n",
    "Scotland,Edinburgh,20000\n",
    "Scotland,Glasgow,12500\n",
    "Wales,Cardiff,29700\n",
    "Wales,Bangor,12800\n",
    "England,London,90000\n",
    "England,Manchester,45600\n",
    "England,Liverpool,29700\n",
    "'''.splitlines()[1:]\n",
    "\n",
    "indata = list(DictReader(rawdata))\n",
    "\n",
    "print('Using sort and groupby:')\n",
    "counts = []\n",
    "sums = []\n",
    "avgs = []\n",
    "maxs = []\n",
    "mins = []\n",
    "ordered_data = sorted(indata, key=itemgetter('Region'))\n",
    "for region, group in groupby(ordered_data, key=itemgetter('Region')):\n",
    "    group_list = list(group)\n",
    "    count = sum(1 for city in group_list)\n",
    "    total = sum(int(city['Sales']) for city in group_list)\n",
    "    maxsale = max(int(city['Sales']) for city in group_list)\n",
    "    minsale = min(int(city['Sales']) for city in group_list)\n",
    "    counts.append((region, count))\n",
    "    sums.append((region, total))\n",
    "    avgs.append((region, total/count))\n",
    "    maxs.append((region, maxsale))\n",
    "    mins.append((region, minsale))\n",
    "print('count:',counts, '\\nsum:',sums, '\\navg:',avgs,\n",
    "      '\\nmax:',maxs, '\\nmin:',mins, '\\n')"
   ]
  },
  {
   "cell_type": "code",
   "execution_count": null,
   "metadata": {
    "collapsed": true
   },
   "outputs": [],
   "source": []
  }
 ],
 "metadata": {
  "anaconda-cloud": {},
  "kernelspec": {
   "display_name": "Python [conda root]",
   "language": "python",
   "name": "conda-root-py"
  },
  "language_info": {
   "codemirror_mode": {
    "name": "ipython",
    "version": 3
   },
   "file_extension": ".py",
   "mimetype": "text/x-python",
   "name": "python",
   "nbconvert_exporter": "python",
   "pygments_lexer": "ipython3",
   "version": "3.5.2"
  }
 },
 "nbformat": 4,
 "nbformat_minor": 1
}
