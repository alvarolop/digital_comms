{
 "cells": [
  {
   "cell_type": "code",
   "execution_count": 15,
   "metadata": {
    "collapsed": false
   },
   "outputs": [
    {
     "name": "stdout",
     "output_type": "stream",
     "text": [
      "['pcd_sector_id,technology,cells', '1,LTE,5', '2,LTE-A,3', '2,LTE,7', '3,LTE,3']\n"
     ]
    }
   ],
   "source": [
    "#How to do aggregates using groupby, defaultdict and Counter on flat files\n",
    "#This Example computes groups for:\n",
    "#region, count(region), sum(sales), avg(sales), max(sales), min(sales)\n",
    "#\n",
    "#By Nestor Nissen\n",
    "\n",
    "from csv import DictReader\n",
    "from operator import itemgetter\n",
    "from itertools import groupby\n",
    "from collections import defaultdict, Counter\n",
    "\n",
    "rawdata = '''\n",
    "pcd_sector_id,technology,cells\n",
    "1,LTE,5\n",
    "2,LTE-A,3\n",
    "2,LTE,7\n",
    "3,LTE,3\n",
    "'''.splitlines()[1:]\n",
    "print(rawdata)"
   ]
  },
  {
   "cell_type": "code",
   "execution_count": 16,
   "metadata": {
    "collapsed": false
   },
   "outputs": [
    {
     "name": "stdout",
     "output_type": "stream",
     "text": [
      "[{'cells': '5', 'pcd_sector_id': '1', 'technology': 'LTE'}, {'cells': '3', 'pcd_sector_id': '2', 'technology': 'LTE-A'}, {'cells': '7', 'pcd_sector_id': '2', 'technology': 'LTE'}, {'cells': '3', 'pcd_sector_id': '3', 'technology': 'LTE'}]\n"
     ]
    }
   ],
   "source": [
    "indata = list(DictReader(rawdata))\n",
    "print(indata)"
   ]
  },
  {
   "cell_type": "code",
   "execution_count": 18,
   "metadata": {
    "collapsed": false
   },
   "outputs": [
    {
     "name": "stdout",
     "output_type": "stream",
     "text": [
      "Using sort and groupby:\n",
      "count: [('1', 1), ('2', 2), ('3', 1)] \n",
      "sum: [('1', 5), ('2', 10), ('3', 3)] \n",
      "avg: [('1', 5.0), ('2', 5.0), ('3', 3.0)] \n",
      "max: [('1', 5), ('2', 7), ('3', 3)] \n",
      "min: [('1', 5), ('2', 3), ('3', 3)] \n",
      "\n"
     ]
    }
   ],
   "source": [
    "print('Using sort and groupby:')\n",
    "\n",
    "counts = []\n",
    "sums = []\n",
    "avgs = []\n",
    "maxs = []\n",
    "mins = []\n",
    "ordered_data = sorted(indata, key=itemgetter('pcd_sector_id'))\n",
    "for pcd_sector_id, group in groupby(ordered_data, key=itemgetter('pcd_sector_id')):\n",
    "    group_list = list(group)\n",
    "    count = sum(1 for technology in group_list)\n",
    "    total = sum(int(technology['cells']) for technology in group_list)\n",
    "    maxsale = max(int(technology['cells']) for technology in group_list)\n",
    "    minsale = min(int(technology['cells']) for technology in group_list)\n",
    "    counts.append((pcd_sector_id, count))\n",
    "    sums.append((pcd_sector_id, total))\n",
    "    avgs.append((pcd_sector_id, total/count))\n",
    "    maxs.append((pcd_sector_id, maxsale))\n",
    "    mins.append((pcd_sector_id, minsale))\n",
    "print('count:',counts, '\\nsum:',sums, '\\navg:',avgs,\n",
    "      '\\nmax:',maxs, '\\nmin:',mins, '\\n')\n"
   ]
  },
  {
   "cell_type": "code",
   "execution_count": 20,
   "metadata": {
    "collapsed": false
   },
   "outputs": [
    {
     "name": "stdout",
     "output_type": "stream",
     "text": [
      "Using defaultdict:\n",
      "count: [('2', 2), ('3', 1), ('1', 1)] \n",
      "sum: [('2', 10), ('3', 3), ('1', 5)] \n",
      "avg: [('2', 5.0), ('3', 3.0), ('1', 5.0)] \n",
      "max: [('2', 7), ('3', 3), ('1', 5)] \n",
      "min: [('2', 3), ('3', 3), ('1', 5)] \n",
      "\n"
     ]
    }
   ],
   "source": [
    "print('Using defaultdict:')\n",
    "dd_counts = defaultdict(int)\n",
    "dd_cells = defaultdict(int)\n",
    "dd_maxs = defaultdict(int)\n",
    "dd_mins = defaultdict(lambda: 9**99)\n",
    "for row in indata:\n",
    "    pcd_sector_id = row['pcd_sector_id']\n",
    "    cells = int(row['cells'])\n",
    "    dd_counts[pcd_sector_id] += 1\n",
    "    dd_cells[pcd_sector_id] += cells\n",
    "    dd_maxs[pcd_sector_id] = max(dd_maxs[pcd_sector_id], cells)\n",
    "    dd_mins[pcd_sector_id] = min(dd_mins[pcd_sector_id], cells)\n",
    "counts = list(dd_counts.items())\n",
    "sums = list(dd_cells.items())\n",
    "avgs = [(key, dd_cells[key]/count) for key, count in dd_counts.items()]\n",
    "maxs = list(dd_maxs.items())\n",
    "mins = list(dd_mins.items())\n",
    "print('count:',counts, '\\nsum:',sums, '\\navg:',avgs,\n",
    "      '\\nmax:',maxs, '\\nmin:',mins, '\\n')\n"
   ]
  },
  {
   "cell_type": "code",
   "execution_count": 21,
   "metadata": {
    "collapsed": false
   },
   "outputs": [
    {
     "name": "stdout",
     "output_type": "stream",
     "text": [
      "Using counter:\n",
      "count: [('2', 2), ('3', 1), ('1', 1)]\n"
     ]
    }
   ],
   "source": [
    "print('Using counter:')\n",
    "counts = list(Counter(map(itemgetter('pcd_sector_id'), indata)).items())\n",
    "print('count:',counts)"
   ]
  },
  {
   "cell_type": "code",
   "execution_count": null,
   "metadata": {
    "collapsed": true
   },
   "outputs": [],
   "source": []
  }
 ],
 "metadata": {
  "anaconda-cloud": {},
  "kernelspec": {
   "display_name": "Python [conda root]",
   "language": "python",
   "name": "conda-root-py"
  },
  "language_info": {
   "codemirror_mode": {
    "name": "ipython",
    "version": 3
   },
   "file_extension": ".py",
   "mimetype": "text/x-python",
   "name": "python",
   "nbconvert_exporter": "python",
   "pygments_lexer": "ipython3",
   "version": "3.5.2"
  }
 },
 "nbformat": 4,
 "nbformat_minor": 1
}
