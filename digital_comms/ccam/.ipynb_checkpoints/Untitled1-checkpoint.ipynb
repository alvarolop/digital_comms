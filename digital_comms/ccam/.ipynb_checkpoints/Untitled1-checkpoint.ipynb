{
 "cells": [
  {
   "cell_type": "code",
   "execution_count": 5,
   "metadata": {
    "collapsed": false
   },
   "outputs": [
    {
     "ename": "IndentationError",
     "evalue": "unexpected indent (<ipython-input-5-4ae26b7a0e71>, line 19)",
     "output_type": "error",
     "traceback": [
      "\u001b[0;36m  File \u001b[0;32m\"<ipython-input-5-4ae26b7a0e71>\"\u001b[0;36m, line \u001b[0;32m19\u001b[0m\n\u001b[0;31m    return system\u001b[0m\n\u001b[0m    ^\u001b[0m\n\u001b[0;31mIndentationError\u001b[0m\u001b[0;31m:\u001b[0m unexpected indent\n"
     ]
    }
   ],
   "source": [
    "class Asset(object):\n",
    "    \"\"\"Element of the communication infrastructure system,\n",
    "    e.g. base station or distribution-point unit.\n",
    "    \"\"\"\n",
    "    def __init__(self, data):\n",
    "        self.type = data[\"type\"]\n",
    "        self.pcd_sector_id = data[\"pcd_sector_id\"]\n",
    "        self.cells = data[\"cells\"]\n",
    "        self.technology = data[\"technology\"]\n",
    "        \n",
    "    def system(self):\n",
    "        grouped = itertools.groupby(self._assets, lambda x: x[\"k\"])\n",
    "        for x, y in grouped:\n",
    "            print(x,y)\n",
    "\n",
    "    for key, group in itertools.groupby(self._assets, lambda x: x[\"k\"]):\n",
    "        for whole_val in group:\n",
    "            system = key, whole_val\n",
    "                return system\n",
    "        \n",
    "    def results(self):\n",
    "        return {\"system\": {area.name: area.system() for area in self.lads.values()},"
   ]
  },
  {
   "cell_type": "code",
   "execution_count": 1,
   "metadata": {
    "collapsed": true
   },
   "outputs": [],
   "source": [
    "assets = [\n",
    "{\n",
    "\"type\": \"site\",\n",
    "\"pcd_sector_id\": 1,\n",
    "\"cells\": 3,\n",
    "\"technology\": \"LTE\"\n",
    "},\n",
    "{\n",
    "\"type\": \"site\",\n",
    "\"pcd_sector_id\": 1,\n",
    "\"cells\": 2,\n",
    "\"technology\": \"LTE-Advanced\"\n",
    "},    \n",
    "{\n",
    "\"type\": \"site\",\n",
    "\"pcd_sector_id\": 2,\n",
    "\"cells\": 5,\n",
    "\"technology\": \"LTE-Advanced\"\n",
    "},\n",
    "{\n",
    "\"type\": \"site\",\n",
    "\"pcd_sector_id\": 2,\n",
    "\"cells\": 3,\n",
    "\"technology\": \"LTE\"\n",
    "},\n",
    "{\n",
    "\"type\": \"site\",\n",
    "\"pcd_sector_id\": 3,\n",
    "\"cells\": 3,\n",
    "\"technology\": \"LTE\"\n",
    "},\n",
    "{\n",
    "\"type\": \"site\",\n",
    "\"pcd_sector_id\": 3,\n",
    "\"cells\": 5,\n",
    "\"technology\": \"LTE-Advanced\"\n",
    "}    \n",
    "]"
   ]
  },
  {
   "cell_type": "code",
   "execution_count": 2,
   "metadata": {
    "collapsed": false
   },
   "outputs": [
    {
     "name": "stdout",
     "output_type": "stream",
     "text": [
      "[{'cells': 3, 'technology': 'LTE', 'type': 'site', 'pcd_sector_id': 1}, {'cells': 2, 'technology': 'LTE-Advanced', 'type': 'site', 'pcd_sector_id': 1}, {'cells': 5, 'technology': 'LTE-Advanced', 'type': 'site', 'pcd_sector_id': 2}, {'cells': 3, 'technology': 'LTE', 'type': 'site', 'pcd_sector_id': 2}, {'cells': 3, 'technology': 'LTE', 'type': 'site', 'pcd_sector_id': 3}, {'cells': 5, 'technology': 'LTE-Advanced', 'type': 'site', 'pcd_sector_id': 3}]\n"
     ]
    }
   ],
   "source": [
    "print(assets)"
   ]
  },
  {
   "cell_type": "code",
   "execution_count": 3,
   "metadata": {
    "collapsed": true
   },
   "outputs": [],
   "source": [
    "a = [\n",
    "    {\"k\":\"a\", \"v\": 1},\n",
    "    {\"k\":\"a\", \"v\": 2},\n",
    "    {\"k\":\"b\", \"v\": 3},\n",
    "    {\"k\":\"b\", \"v\": 4}\n",
    "]"
   ]
  },
  {
   "cell_type": "code",
   "execution_count": 4,
   "metadata": {
    "collapsed": true
   },
   "outputs": [],
   "source": [
    "import itertools"
   ]
  },
  {
   "cell_type": "code",
   "execution_count": 38,
   "metadata": {
    "collapsed": false
   },
   "outputs": [
    {
     "name": "stdout",
     "output_type": "stream",
     "text": [
      "<itertools.groupby object at 0x0000000004E406D8>\n"
     ]
    }
   ],
   "source": [
    "grouped = itertools.groupby(assets, lambda x: x[\"pcd_sector_id\"])\n",
    "print(grouped)"
   ]
  },
  {
   "cell_type": "code",
   "execution_count": 39,
   "metadata": {
    "collapsed": false
   },
   "outputs": [
    {
     "name": "stdout",
     "output_type": "stream",
     "text": [
      "1 <itertools._grouper object at 0x0000000004E335C0>\n",
      "2 <itertools._grouper object at 0x0000000004E4C320>\n",
      "3 <itertools._grouper object at 0x0000000004E33198>\n"
     ]
    }
   ],
   "source": [
    "for x, y in grouped:\n",
    "    print(x,y)"
   ]
  },
  {
   "cell_type": "code",
   "execution_count": 40,
   "metadata": {
    "collapsed": false
   },
   "outputs": [
    {
     "name": "stdout",
     "output_type": "stream",
     "text": [
      "1 {'cells': 3, 'technology': 'LTE', 'pcd_sector_id': 1, 'type': 'site'}\n",
      "1 {'cells': 2, 'technology': 'LTE-Advanced', 'pcd_sector_id': 1, 'type': 'site'}\n",
      "2 {'cells': 5, 'technology': 'LTE-Advanced', 'pcd_sector_id': 2, 'type': 'site'}\n",
      "2 {'cells': 3, 'technology': 'LTE', 'pcd_sector_id': 2, 'type': 'site'}\n",
      "3 {'cells': 3, 'technology': 'LTE', 'pcd_sector_id': 3, 'type': 'site'}\n",
      "3 {'cells': 5, 'technology': 'LTE-Advanced', 'pcd_sector_id': 3, 'type': 'site'}\n"
     ]
    }
   ],
   "source": [
    "for key, group in itertools.groupby(assets, lambda x: x[\"pcd_sector_id\"]):\n",
    "    for whole_val in group:\n",
    "            print(key, whole_val)"
   ]
  },
  {
   "cell_type": "code",
   "execution_count": 5,
   "metadata": {
    "collapsed": false
   },
   "outputs": [],
   "source": [
    "sortedreader = sorted(assets, key=lambda d: (d['technology'], d['cells']))\n",
    "\n",
    "groups = itertools.groupby(sortedreader, key=lambda d: (d['technology'], d['cells']))\n",
    "\n",
    "result = [(k, max(g, key=lambda d: d['cells'])) for k, g in groups]"
   ]
  },
  {
   "cell_type": "raw",
   "metadata": {},
   "source": [
    "print (result)\n"
   ]
  }
 ],
 "metadata": {
  "anaconda-cloud": {},
  "kernelspec": {
   "display_name": "Python [conda root]",
   "language": "python",
   "name": "conda-root-py"
  },
  "language_info": {
   "codemirror_mode": {
    "name": "ipython",
    "version": 3
   },
   "file_extension": ".py",
   "mimetype": "text/x-python",
   "name": "python",
   "nbconvert_exporter": "python",
   "pygments_lexer": "ipython3",
   "version": "3.5.2"
  }
 },
 "nbformat": 4,
 "nbformat_minor": 1
}
