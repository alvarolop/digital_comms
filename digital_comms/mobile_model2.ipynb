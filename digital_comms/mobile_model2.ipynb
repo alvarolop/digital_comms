{
 "cells": [
  {
   "cell_type": "code",
   "execution_count": 7,
   "metadata": {
    "collapsed": false
   },
   "outputs": [
    {
     "name": "stdout",
     "output_type": "stream",
     "text": [
      "   A__area_ID  B_demand  C_sites  D_supply  E_margin  F_new_sites\n",
      "0           0       150       10       100       -50            5\n",
      "1           1       300       20       200      -100           10\n",
      "2           2       250       30       300        50            0\n"
     ]
    }
   ],
   "source": [
    "import numpy as np\n",
    "import pandas as pd\n",
    "#from __future__ import division\n",
    "\n",
    "np.random.seed(seed=42)\n",
    "\n",
    "length = 5\n",
    "\n",
    "population = np.random.randint(low=4000, high=10000, size=length)\n",
    "area = np.random.randint(low=1, high=50, size=length)\n",
    "user_demand = [1]*length\n",
    "penetration = 0.8\n",
    "OBF = 50\n",
    "\n",
    "def calc_demand (population, area, user_demand, penetration):\n",
    "    users = population*penetration\n",
    "    density = users / area #km2\n",
    "    user_throughput = user_demand #temporary calculation!!\n",
    "    capacity_required_km2 = user_throughput * density\n",
    "    area_demand = np.round(capacity_required_km2 / OBF, 2)\n",
    "    return area_demand\n",
    "\n",
    "spectrum_bandwidth = [20]*length\n",
    "sites = np.random.randint(low=1, high=40, size=length)\n",
    "efficiency = [3]*length\n",
    "\n",
    "def calc_supply (spectrum_bandwidth, sites, efficiency):\n",
    "    cells = sites * 3\n",
    "    total_capacity = spectrum_bandwidth * sites * cells * efficiency/1000\n",
    "    area_supply = np.round(total_capacity / area, 0)\n",
    "    return area_supply\n",
    "\n",
    "def calc_margin (demand, supply):\n",
    "    margin = supply - demand\n",
    "    return margin\n",
    "\n",
    "#when you call the function, store the output as an object \n",
    "area_demand = calc_demand(population, area, user_demand, penetration)\n",
    "area_supply = calc_supply(spectrum_bandwidth, sites, efficiency)\n",
    "margin = calc_margin(area_demand, area_supply)\n",
    "\n",
    "# while np.any(margin < 0): \n",
    "#     sites = sites + 1\n",
    "#     cells = sites * 3\n",
    "#     total_capacity = spectrum_bandwidth * sites * cells * efficiency/1000\n",
    "#     area_supply = np.round(total_capacity / area, 0)\n",
    "#     margin = area_supply - area_demand\n",
    "#     if np.any(margin > 0): \n",
    "#         print (sites)\n",
    "   \n",
    "\n",
    "sites_df = pd.DataFrame({ 'A__area_ID' : np.arange(3),\n",
    "                    'B_demand' : (150, 300, 250),\n",
    "                    'C_sites' : (10, 20, 30),\n",
    "                    'D_supply' : (100, 200, 300),\n",
    "                    'E_margin' : (-50, -100, 50),\n",
    "                    'F_new_sites' : ('', '', '')})\n",
    "\n",
    "lookup_df = pd.DataFrame({ 'sites_lookup' : (5,10,15,20,25,30,35,40),\n",
    "                    'supply_lookup' : (50,100,150,200,250,300,350,400)})\n",
    "        \n",
    "def lookup_new_sites(row):\n",
    "    if row['E_margin'] < 0:\n",
    "        # get the minimum number of sites that cover the current supply deficit\n",
    "        number_new = lookup_df.loc[lookup_df['supply_lookup'] >= abs(row['B_demand']), 'sites_lookup'].values[0]\n",
    "        return number_new - row['C_sites']\n",
    "    else:\n",
    "        return 0\n",
    "    \n",
    "sites_df['F_new_sites'] = sites_df.apply(lookup_new_sites, axis=1)\n",
    "print(sites_df)\n",
    "\n",
    "# output = pd.DataFrame({ 'A__area_ID' : np.arange(3),\n",
    "#                         'B_demand' : (150, 300, 250),\n",
    "#                         'C_sites' : (10, 20, 30),\n",
    "#                         'D_supply' : (100, 200, 300),\n",
    "#                         'E_margin' : (-50, -100, 50),\n",
    "#                         'F_new_sites' : ('15', '30', '0')})    \n",
    "#print(output)  \n",
    "    \n",
    "    \n",
    "    "
   ]
  }
 ],
 "metadata": {
  "anaconda-cloud": {},
  "kernelspec": {
   "display_name": "Python [conda root]",
   "language": "python",
   "name": "conda-root-py"
  },
  "language_info": {
   "codemirror_mode": {
    "name": "ipython",
    "version": 3
   },
   "file_extension": ".py",
   "mimetype": "text/x-python",
   "name": "python",
   "nbconvert_exporter": "python",
   "pygments_lexer": "ipython3",
   "version": "3.5.2"
  }
 },
 "nbformat": 4,
 "nbformat_minor": 1
}
