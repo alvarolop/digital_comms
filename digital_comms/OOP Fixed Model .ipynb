{
 "cells": [
  {
   "cell_type": "markdown",
   "metadata": {},
   "source": [
    "# Fixed broadband model"
   ]
  },
  {
   "cell_type": "code",
   "execution_count": 1,
   "metadata": {
    "collapsed": true
   },
   "outputs": [],
   "source": [
    "import csv\n",
    "from functools import reduce\n"
   ]
  },
  {
   "cell_type": "markdown",
   "metadata": {},
   "source": [
    "## Define the object class 'Exchange'"
   ]
  },
  {
   "cell_type": "code",
   "execution_count": 2,
   "metadata": {
    "collapsed": true
   },
   "outputs": [],
   "source": [
    "class Exchange(object):\n",
    "    \"\"\"An asset which serves fixed broadband premises\n",
    "\n",
    "    An Exchange is associated with a `geotype`, an area `code`.\n",
    "\n",
    "    The areas served by an Exchange are disaggregated into Bands, each of\n",
    "    which uses a technology. Average connection speed at the premises is a\n",
    "    function of the technology.\n",
    "\n",
    "    Arguments\n",
    "    ---------\n",
    "    location: dict\n",
    "        Contains 'oslaua', 'oscty', 'gor', 'code', 'geotype_name', 'geotype_number'\n",
    "    \"\"\"\n",
    "\n",
    "    def __init__(self, premises, speeds, location):\n",
    "\n",
    "        self.bands = []\n",
    "\n",
    "        for premise, speed in zip(premises, speeds):\n",
    "            self.bands.append(Band(premise, speed))\n",
    "\n",
    "        self.location = location\n",
    "\n",
    "    def premises_passed_by_tech(self):\n",
    "        \"\"\"Returns the number of premises passed by each technology\n",
    "\n",
    "        Returns\n",
    "        -------\n",
    "        dict\n",
    "        \"\"\"\n",
    "\n",
    "        premises_passed = {'current': 0,\n",
    "                           'gfast': 0,\n",
    "                           'fttp': 0}\n",
    "        for band in self.bands:\n",
    "            premises_passed[band.technology] += band.premises\n",
    "\n",
    "        return premises_passed\n",
    "\n",
    "    def weighted_premises(self):\n",
    "        \"\"\"Calculates the proportion of premises per band for the exchange\n",
    "\n",
    "        Returns\n",
    "        -------\n",
    "        list\n",
    "            A list, of length ``len(self.bands)`` containing the proportion of\n",
    "            premises held in each band\n",
    "        \"\"\"\n",
    "        total_premises = sum([band.premises for band in self.bands])\n",
    "\n",
    "        weights = [band.premises / total_premises for band in self.bands]\n",
    "\n",
    "        return weights\n",
    "\n",
    "    def average_speed_per_exchange(self):\n",
    "        \"\"\"Computes weighted average of speeds at the premesis per Exchange\n",
    "\n",
    "        Returns\n",
    "        -------\n",
    "        float\n",
    "        \"\"\"\n",
    "        average_speed = sum([weight * band.speed \\\n",
    "            for (weight, band) in zip(self.weighted_premises(), self.bands)])\n",
    "\n",
    "        return average_speed\n",
    "\n",
    "    def update_band_technology(self, band_id, technology):\n",
    "        \"\"\"Update the technology in a band\n",
    "\n",
    "        Arguments\n",
    "        ---------\n",
    "        band_id: int\n",
    "            The number of the band to update (1 to 3)\n",
    "        technology: str\n",
    "            The name of a valid technology ('fttp' or 'gfast')\n",
    "        \"\"\"\n",
    "        self.bands[band_id - 1].technology = technology\n",
    "\n",
    "    def energy_demand(self):\n",
    "        \"\"\"The energy demand of the Exchange\n",
    "\n",
    "        Returns\n",
    "        -------\n",
    "        float\n",
    "            The annual energy demand in MWh per year\n",
    "\n",
    "        \"\"\"\n",
    "        raise NotImplementedError(\"The energy demand method is not yet implemented\")\n"
   ]
  },
  {
   "cell_type": "markdown",
   "metadata": {},
   "source": [
    "## Define object class 'Band' "
   ]
  },
  {
   "cell_type": "code",
   "execution_count": 3,
   "metadata": {
    "collapsed": true
   },
   "outputs": [],
   "source": [
    "class Band(object):\n",
    "    \"\"\"A `Band` is an area surrounding an exchange\n",
    "\n",
    "    A `Band` collects premises of similar connection speeds\n",
    "    around an `Exchange`\n",
    "\n",
    "    Parameters\n",
    "    ----------\n",
    "    premises: int\n",
    "        The number of premises served in the `Band`\n",
    "    current_speed: float\n",
    "        The existing average connection speed of the premises in the `Band`\n",
    "\n",
    "    Attributes\n",
    "    ----------\n",
    "    speed: float\n",
    "        The connection speed available to premises in this `Band`\n",
    "    \"\"\"\n",
    "\n",
    "    def __init__(self, premises, current_speed):\n",
    "        self._technology = 'current'\n",
    "        self.premises = int(premises)\n",
    "        self.speed = current_speed\n",
    "\n",
    "    @property\n",
    "    def technology(self):\n",
    "        \"\"\"The technology type currently available in the `Band`\n",
    " \n",
    "        Changing the technology affects the average connection speed.\n",
    "        \"\"\"\n",
    "        return self._technology\n",
    "\n",
    "    @technology.setter\n",
    "    def technology(self, technology):\n",
    "        self._technology = technology\n",
    "        if self._technology == 'fttp':\n",
    "            self.speed = 2000\n",
    "        elif self._technology == 'gfast':\n",
    "            self.speed = 300"
   ]
  },
  {
   "cell_type": "markdown",
   "metadata": {},
   "source": [
    "## Define method 'read_in_exchange'"
   ]
  },
  {
   "cell_type": "code",
   "execution_count": 4,
   "metadata": {
    "collapsed": true
   },
   "outputs": [],
   "source": [
    "def read_in_exchange(file_path):\n",
    "    \"\"\"Reads in the exchanges and regions from the exchange data file\n",
    "\n",
    "    Parameters\n",
    "    ----------\n",
    "    file_path: str\n",
    "        The file path of the csv file containing the exchange data\n",
    "\n",
    "    Returns\n",
    "    -------\n",
    "    exchange : dict\n",
    "        A dictionary of :class:`Exchange` objects\n",
    "    code : dict\n",
    "        Maps exchanges to codes\n",
    "    geotype : dict\n",
    "        Maps exchanges to geotypes.  For example::\n",
    "\n",
    "            geotypes = {1: ['CLBER', 'CLBIS', 'CLCAN']}\n",
    "\n",
    "    \"\"\"\n",
    "    exchange = {}\n",
    "    code = {}\n",
    "    geotype = {}\n",
    "\n",
    "    with open(file_path) as csvfile:\n",
    "        reader = csv.DictReader(csvfile)\n",
    "        for row in reader:\n",
    "\n",
    "            prem_1 = int(row['prem_under_1km'])\n",
    "            prem_2 = int(row['prem_1_3km'])\n",
    "            prem_3 = int(row['prem_over_3km'])\n",
    "\n",
    "            premises = [prem_1, prem_2, prem_3]\n",
    "\n",
    "            speed = float(row['av_spd_per_prem'])\n",
    "            speeds = [speed, speed, speed]\n",
    "\n",
    "            geo_id = int(row['geotype_number'])\n",
    "\n",
    "            locations = {'oslaua': row['oslaua'],\n",
    "                         'oscty': row['oscty'],\n",
    "                         'gor': row['gor'],\n",
    "                         'code': row['code'],\n",
    "                         'geotype_number': geo_id}\n",
    "\n",
    "            exchange[row['exchange']] = Exchange(premises,\n",
    "                                                 speeds,\n",
    "                                                 locations)\n",
    "\n",
    "            if row['code'] not in code:\n",
    "                code[row['code']] = [row['exchange']]\n",
    "            else:\n",
    "                code[row['code']].append(row['exchange'])\n",
    "\n",
    "            if geo_id not in geotype:\n",
    "                geotype[geo_id] = [row['exchange']]\n",
    "            else:\n",
    "                geotype[geo_id].append(row['exchange'])\n",
    "\n",
    "    return exchange, code, geotype"
   ]
  },
  {
   "cell_type": "code",
   "execution_count": null,
   "metadata": {
    "collapsed": true
   },
   "outputs": [],
   "source": []
  },
  {
   "cell_type": "code",
   "execution_count": null,
   "metadata": {
    "collapsed": true
   },
   "outputs": [],
   "source": []
  },
  {
   "cell_type": "code",
   "execution_count": null,
   "metadata": {
    "collapsed": true
   },
   "outputs": [],
   "source": []
  },
  {
   "cell_type": "code",
   "execution_count": null,
   "metadata": {
    "collapsed": true
   },
   "outputs": [],
   "source": []
  },
  {
   "cell_type": "markdown",
   "metadata": {},
   "source": [
    "## Apply an intervention to an exchange"
   ]
  },
  {
   "cell_type": "code",
   "execution_count": 5,
   "metadata": {
    "collapsed": true
   },
   "outputs": [],
   "source": [
    "def apply_interventions_to_exchanges(decisions, exchanges, geotypes):\n",
    "    \"\"\"\n",
    "\n",
    "    Arguments\n",
    "    ---------\n",
    "    decisions: list\n",
    "        A list of intervention dicts\n",
    "    exchanges: dict\n",
    "        The dictionary of exchanges\n",
    "    geotypes: dict\n",
    "        The dictionary of exchanges mapped to geotypes\n",
    "    \"\"\"\n",
    "\n",
    "    for decision in decisions:\n",
    "        # Find the matching exchanges with the same geotype\n",
    "        technology, geotype, band = decision['name'].split(\"_\")\n",
    "\n",
    "        for exchange_id in geotypes[int(geotype)]:\n",
    "            exchanges[exchange_id].update_band_technology(int(band), technology)\n",
    "            print(exchange_id, band, technology)"
   ]
  },
  {
   "cell_type": "markdown",
   "metadata": {},
   "source": [
    "## Calculate speed for the exchange"
   ]
  },
  {
   "cell_type": "code",
   "execution_count": 6,
   "metadata": {
    "collapsed": true
   },
   "outputs": [],
   "source": [
    "def calculate_speed(exchanges):\n",
    "    \"\"\"For each OFCOM geography (code), calculate the average speed\n",
    "\n",
    "    Returns\n",
    "    -------\n",
    "    dict\n",
    "        Returns a dictionary, where the exchange id is the key, and the\n",
    "        average speed is the value\n",
    "    \"\"\"\n",
    "    results = {}\n",
    "    for key, exchange in exchanges.items():\n",
    "        results[key] = exchange.average_speed_per_exchange()\n",
    "    return results\n"
   ]
  },
  {
   "cell_type": "markdown",
   "metadata": {},
   "source": [
    "## Average speed by region"
   ]
  },
  {
   "cell_type": "code",
   "execution_count": 7,
   "metadata": {
    "collapsed": true
   },
   "outputs": [],
   "source": [
    "def average_by_region(results, aggregation):\n",
    "    \"\"\"Calculates average over an aggregated set of exchanges\n",
    "\n",
    "    Arguments\n",
    "    ---------\n",
    "    results : dict\n",
    "        A dictionary with exchange id as keys and values as values.\n",
    "        For example::\n",
    "\n",
    "            {'CLBER': 50, 'CLBIS': 50, 'CLCAN': 50}\n",
    "\n",
    "    aggregation: dict\n",
    "        A dict with aggregation heading as key, and list of exchange ids as values, for example::\n",
    "\n",
    "            {'00London': ['CLBER', 'CLBIS', 'CLCAN']}\n",
    "\n",
    "    Returns\n",
    "    -------\n",
    "    dict\n",
    "        Returns a dictionary of aggregated `results` by `aggregation`\n",
    "        e.g.::\n",
    "\n",
    "            {'00London': 50}\n",
    "\n",
    "    \"\"\"\n",
    "    aggregated_results = {}\n",
    "\n",
    "    for heading, exchanges in aggregation.items():\n",
    "        total = sum([results[exchange] for exchange in exchanges])\n",
    "        count = len(exchanges)\n",
    "        aggregated_results[heading] = total / count\n",
    "\n",
    "    return aggregated_results"
   ]
  },
  {
   "cell_type": "markdown",
   "metadata": {},
   "source": [
    "## Sum premises passed per region"
   ]
  },
  {
   "cell_type": "code",
   "execution_count": 8,
   "metadata": {
    "collapsed": true
   },
   "outputs": [],
   "source": [
    "def sum_by_region(results, aggregation):\n",
    "    \"\"\"Sums up premises passed over an aggregated set of exchanges\n",
    "\n",
    "    Arguments\n",
    "    ---------\n",
    "    results : dict\n",
    "        A dictionary with exchange id as keys and values as values.\n",
    "        For example::\n",
    "\n",
    "            {'CLBER': {'current': 22880,\n",
    "                       'gfast': 0,\n",
    "                       'fttp': 0},\n",
    "             'CLBIS': {'current': 9555,\n",
    "                       'gfast': 0,\n",
    "                       'fttp': 0},\n",
    "             'CLCAN': {'current': 17385,\n",
    "                       'gfast': 0,\n",
    "                       'fttp': 0}}\n",
    "\n",
    "    aggregation: dict\n",
    "        A dict with aggregation heading as key, and list of exchange ids as values, for example::\n",
    "\n",
    "            {'00London': ['CLBER', 'CLBIS', 'CLCAN']}\n",
    "\n",
    "    Returns\n",
    "    -------\n",
    "    dict\n",
    "        Returns a dictionary of aggregated `results` by `aggregation`\n",
    "        e.g.::\n",
    "\n",
    "            {'00London': {'current': 49820,\n",
    "                          'gfast': 0,\n",
    "                          'fttp': 0}}\n",
    "\n",
    "    \"\"\"\n",
    "    aggregated_results = {}\n",
    "\n",
    "    for heading, exchanges in aggregation.items():\n",
    "        region_results = [results[exchange] for exchange in exchanges]\n",
    "        dictf = reduce(lambda x, y: dict((k, v + y[k]) for k, v in x.items()), region_results)\n",
    "        aggregated_results[heading] = dictf\n",
    "\n",
    "    return aggregated_results"
   ]
  },
  {
   "cell_type": "markdown",
   "metadata": {},
   "source": [
    "## Calculate energy demand"
   ]
  },
  {
   "cell_type": "code",
   "execution_count": 9,
   "metadata": {
    "collapsed": true
   },
   "outputs": [],
   "source": [
    "def calculate_energy_demand(exchanges):\n",
    "    \"\"\"Calculates the energy demand of the exchanges, given the installed technologies\n",
    "\n",
    "    Parameters\n",
    "    ----------\n",
    "    exchanges: dict\n",
    "\n",
    "    Returns\n",
    "    -------\n",
    "    dict\n",
    "        Returns a dictionary, where the exchange id is the key, and the\n",
    "        energy demand is the value\n",
    "\n",
    "    \"\"\"\n",
    "    results = {}\n",
    "    for key, exchange in exchanges.items():\n",
    "        results[key] = exchange.energy_demand()\n",
    "    return results\n"
   ]
  },
  {
   "cell_type": "code",
   "execution_count": 10,
   "metadata": {
    "collapsed": true
   },
   "outputs": [],
   "source": [
    "##Calculate premises passed by a technology across all exchanges"
   ]
  },
  {
   "cell_type": "code",
   "execution_count": 11,
   "metadata": {
    "collapsed": true
   },
   "outputs": [],
   "source": [
    "def calculate_premises_passed(exchanges):\n",
    "    \"\"\"Calculates the premises passed by a technology across all the exchanges\n",
    "\n",
    "    Parameters\n",
    "    ----------\n",
    "    exchanges: dict\n",
    "\n",
    "    Returns\n",
    "    -------\n",
    "    dict\n",
    "        Returns a dictionary, where the technology name is the key,\n",
    "        and the number of premises passed is the value\n",
    "    \"\"\"\n",
    "    results = {}\n",
    "    for ex_id, exchange in exchanges.items():\n",
    "        results[ex_id] = exchange.premises_passed_by_tech()\n",
    "    return results"
   ]
  },
  {
   "cell_type": "markdown",
   "metadata": {},
   "source": [
    "## Define the method for running the whole model"
   ]
  },
  {
   "cell_type": "code",
   "execution_count": 15,
   "metadata": {
    "collapsed": true
   },
   "outputs": [],
   "source": [
    "def run(decisions, file_path='data/exchanges.csv'):\n",
    "    \"\"\"\n",
    "\n",
    "    Parameters\n",
    "    ----------\n",
    "    decisions: list\n",
    "        A list of intervention dicts\n",
    "    file_path: str, default='data/exchanges.csv'\n",
    "        The path to the exchanges csv file\n",
    "\n",
    "    Notes\n",
    "    -----\n",
    "    Returns data in this format::\n",
    "\n",
    "            data['average_speed']['00London']['1'] = 340\n",
    "            data['premises_passed']['00London']['1'] = 29983\n",
    "            data['energy_demand']['00London']['1'] = 239\n",
    "\n",
    "    ``data[<parameter>][<region>][<time_period>] = value``\n",
    "\n",
    "    \"\"\"\n",
    "    results = {}\n",
    "\n",
    "    exchanges, codes, geotypes = read_in_exchange(file_path)\n",
    "\n",
    "    apply_interventions_to_exchanges(decisions, exchanges, geotypes)\n",
    "\n",
    "    speed = calculate_speed(exchanges)\n",
    "    results['average_speed'] = average_by_region(speed, codes)\n",
    "\n",
    "    # energy_demand = calculate_energy_demand(exchanges)\n",
    "    # results['energy_demand'] = aggregate_by_region(energy_demand, codes)\n",
    "\n",
    "    premises_passed = calculate_premises_passed(exchanges)\n",
    "    results['premises_passed'] = sum_by_region(premises_passed, codes)\n",
    "\n",
    "    return results"
   ]
  },
  {
   "cell_type": "code",
   "execution_count": 16,
   "metadata": {
    "collapsed": false
   },
   "outputs": [
    {
     "data": {
      "text/plain": [
       "<function __main__.run>"
      ]
     },
     "execution_count": 16,
     "metadata": {},
     "output_type": "execute_result"
    }
   ],
   "source": []
  },
  {
   "cell_type": "code",
   "execution_count": null,
   "metadata": {
    "collapsed": true
   },
   "outputs": [],
   "source": []
  }
 ],
 "metadata": {
  "anaconda-cloud": {},
  "kernelspec": {
   "display_name": "Python [conda root]",
   "language": "python",
   "name": "conda-root-py"
  },
  "language_info": {
   "codemirror_mode": {
    "name": "ipython",
    "version": 3
   },
   "file_extension": ".py",
   "mimetype": "text/x-python",
   "name": "python",
   "nbconvert_exporter": "python",
   "pygments_lexer": "ipython3",
   "version": "3.5.2"
  }
 },
 "nbformat": 4,
 "nbformat_minor": 1
}
