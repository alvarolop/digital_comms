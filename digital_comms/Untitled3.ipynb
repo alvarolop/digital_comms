{
 "cells": [
  {
   "cell_type": "code",
   "execution_count": 1,
   "metadata": {
    "collapsed": true
   },
   "outputs": [],
   "source": [
    "datastore = { \"office\": {\n",
    "    \"medical\": [\n",
    "      { \"room-number\": 100,\n",
    "        \"use\": \"reception\",\n",
    "        \"sq-ft\": 50,\n",
    "        \"price\": 75\n",
    "      },\n",
    "      { \"room-number\": 101,\n",
    "        \"use\": \"waiting\",\n",
    "        \"sq-ft\": 250,\n",
    "        \"price\": 75\n",
    "      },\n",
    "      { \"room-number\": 102,\n",
    "        \"use\": \"examination\",\n",
    "        \"sq-ft\": 125,\n",
    "        \"price\": 150\n",
    "      },\n",
    "      { \"room-number\": 103,\n",
    "        \"use\": \"examination\",\n",
    "        \"sq-ft\": 125,\n",
    "        \"price\": 150\n",
    "      },\n",
    "      { \"room-number\": 104,\n",
    "        \"use\": \"office\",\n",
    "        \"sq-ft\": 150,\n",
    "        \"price\": 100\n",
    "      }\n",
    "    ],\n",
    "    \"parking\": {\n",
    "      \"location\": \"premium\",\n",
    "      \"style\": \"covered\",\n",
    "      \"price\": 750\n",
    "    }\n",
    "  }\n",
    "}"
   ]
  },
  {
   "cell_type": "code",
   "execution_count": 2,
   "metadata": {
    "collapsed": false
   },
   "outputs": [
    {
     "name": "stdout",
     "output_type": "stream",
     "text": [
      "{'office': {'parking': {'price': 750, 'style': 'covered', 'location': 'premium'}, 'medical': [{'price': 75, 'use': 'reception', 'room-number': 100, 'sq-ft': 50}, {'price': 75, 'use': 'waiting', 'room-number': 101, 'sq-ft': 250}, {'price': 150, 'use': 'examination', 'room-number': 102, 'sq-ft': 125}, {'price': 150, 'use': 'examination', 'room-number': 103, 'sq-ft': 125}, {'price': 100, 'use': 'office', 'room-number': 104, 'sq-ft': 150}]}}\n"
     ]
    }
   ],
   "source": [
    "print(datastore)"
   ]
  },
  {
   "cell_type": "code",
   "execution_count": 3,
   "metadata": {
    "collapsed": true
   },
   "outputs": [],
   "source": [
    "spaces = datastore['office']['medical']"
   ]
  },
  {
   "cell_type": "raw",
   "metadata": {},
   "source": [
    "print(spaces)"
   ]
  },
  {
   "cell_type": "code",
   "execution_count": 4,
   "metadata": {
    "collapsed": true
   },
   "outputs": [],
   "source": [
    "for item in spaces:\n",
    "    if item.get('use') == \"examination\" :\n",
    "        item['price'] = 175\n"
   ]
  },
  {
   "cell_type": "code",
   "execution_count": 6,
   "metadata": {
    "collapsed": false
   },
   "outputs": [
    {
     "name": "stdout",
     "output_type": "stream",
     "text": [
      "The examination rooms now cost 175\n",
      "The examination rooms now cost 175\n"
     ]
    }
   ],
   "source": [
    "for item in datastore['office']['medical']: # this loop shows the change is not only in books but is also in database\n",
    "    if item.get('use') == \"examination\":\n",
    "        print ('The {} rooms now cost {}'.format(item.get(\"use\"), item.get(\"price\")))"
   ]
  },
  {
   "cell_type": "code",
   "execution_count": null,
   "metadata": {
    "collapsed": true
   },
   "outputs": [],
   "source": []
  }
 ],
 "metadata": {
  "anaconda-cloud": {},
  "kernelspec": {
   "display_name": "Python [conda root]",
   "language": "python",
   "name": "conda-root-py"
  },
  "language_info": {
   "codemirror_mode": {
    "name": "ipython",
    "version": 3
   },
   "file_extension": ".py",
   "mimetype": "text/x-python",
   "name": "python",
   "nbconvert_exporter": "python",
   "pygments_lexer": "ipython3",
   "version": "3.5.2"
  }
 },
 "nbformat": 4,
 "nbformat_minor": 1
}
