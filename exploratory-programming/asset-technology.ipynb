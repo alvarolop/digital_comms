{
 "cells": [
  {
   "cell_type": "code",
   "execution_count": 1,
   "metadata": {
    "collapsed": true
   },
   "outputs": [],
   "source": [
    "assets = [\n",
    "{\n",
    "\"type\": \"site\",\n",
    "\"pcd_sector_id\": 1,\n",
    "\"cells\": 3,\n",
    "\"technology\": \"LTE\"\n",
    "},\n",
    "    {\n",
    "\"type\": \"site\",\n",
    "\"pcd_sector_id\": 1,\n",
    "\"cells\": 3,\n",
    "\"technology\": \"LTE-Advanced\"\n",
    "},\n",
    "{\n",
    "\"type\": \"site\",\n",
    "\"pcd_sector_id\": 1,\n",
    "\"cells\": 2,\n",
    "\"technology\": \"LTE-Advanced\"\n",
    "},    \n",
    "{\n",
    "\"type\": \"site\",\n",
    "\"pcd_sector_id\": 2,\n",
    "\"cells\": 5,\n",
    "\"technology\": \"LTE-Advanced\"\n",
    "},\n",
    "{\n",
    "\"type\": \"site\",\n",
    "\"pcd_sector_id\": 2,\n",
    "\"cells\": 3,\n",
    "\"technology\": \"LTE\"\n",
    "},\n",
    "{\n",
    "\"type\": \"site\",\n",
    "\"pcd_sector_id\": 3,\n",
    "\"cells\": 3,\n",
    "\"technology\": \"LTE\"\n",
    "},\n",
    "{\n",
    "\"type\": \"site\",\n",
    "\"pcd_sector_id\": 3,\n",
    "\"cells\": 5,\n",
    "\"technology\": \"LTE-Advanced\"\n",
    "}    \n",
    "]"
   ]
  },
  {
   "cell_type": "code",
   "execution_count": 2,
   "metadata": {
    "collapsed": false
   },
   "outputs": [
    {
     "name": "stdout",
     "output_type": "stream",
     "text": [
      "[{'technology': 'LTE', 'cells': 3, 'pcd_sector_id': 1, 'type': 'site'}, {'technology': 'LTE-Advanced', 'cells': 3, 'pcd_sector_id': 1, 'type': 'site'}, {'technology': 'LTE-Advanced', 'cells': 2, 'pcd_sector_id': 1, 'type': 'site'}, {'technology': 'LTE-Advanced', 'cells': 5, 'pcd_sector_id': 2, 'type': 'site'}, {'technology': 'LTE', 'cells': 3, 'pcd_sector_id': 2, 'type': 'site'}, {'technology': 'LTE', 'cells': 3, 'pcd_sector_id': 3, 'type': 'site'}, {'technology': 'LTE-Advanced', 'cells': 5, 'pcd_sector_id': 3, 'type': 'site'}]\n"
     ]
    }
   ],
   "source": [
    "print(assets)"
   ]
  },
  {
   "cell_type": "code",
   "execution_count": 3,
   "metadata": {
    "collapsed": false
   },
   "outputs": [
    {
     "name": "stdout",
     "output_type": "stream",
     "text": [
      "{1: {'LTE-Advanced': 5, 'LTE': 3}, 2: {'LTE-Advanced': 5, 'LTE': 3}, 3: {'LTE-Advanced': 5, 'LTE': 3}}\n"
     ]
    }
   ],
   "source": [
    "# dictionary of area_id: {dictionary of technology: number_of_cells}\n",
    "system = {}\n",
    "\n",
    "for asset in assets:\n",
    "    area_id = asset['pcd_sector_id']\n",
    "    tech = asset['technology']\n",
    "    cells = asset['cells']\n",
    "    # check area is in system\n",
    "    if area_id not in system:\n",
    "        system[area_id] = {}\n",
    "    # check tech is in area\n",
    "    if tech not in system[area_id]:\n",
    "        system[area_id][tech] = 0\n",
    "    # add number of cells to tech in area\n",
    "    system[area_id][tech] += cells\n",
    "\n",
    "print(system)"
   ]
  },
  {
   "cell_type": "code",
   "execution_count": null,
   "metadata": {
    "collapsed": true
   },
   "outputs": [],
   "source": []
  }
 ],
 "metadata": {
  "anaconda-cloud": {},
  "kernelspec": {
   "display_name": "Python [conda root]",
   "language": "python",
   "name": "conda-root-py"
  },
  "language_info": {
   "codemirror_mode": {
    "name": "ipython",
    "version": 2
   },
   "file_extension": ".py",
   "mimetype": "text/x-python",
   "name": "python",
   "nbconvert_exporter": "python",
   "pygments_lexer": "ipython2",
   "version": "2.7.12"
  }
 },
 "nbformat": 4,
 "nbformat_minor": 1
}
