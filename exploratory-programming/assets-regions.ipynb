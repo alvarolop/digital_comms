{
 "cells": [
  {
   "cell_type": "code",
   "execution_count": 5,
   "metadata": {
    "collapsed": false
   },
   "outputs": [
    {
     "ename": "IndentationError",
     "evalue": "unexpected indent (<ipython-input-5-4ae26b7a0e71>, line 19)",
     "output_type": "error",
     "traceback": [
      "\u001b[0;36m  File \u001b[0;32m\"<ipython-input-5-4ae26b7a0e71>\"\u001b[0;36m, line \u001b[0;32m19\u001b[0m\n\u001b[0;31m    return system\u001b[0m\n\u001b[0m    ^\u001b[0m\n\u001b[0;31mIndentationError\u001b[0m\u001b[0;31m:\u001b[0m unexpected indent\n"
     ]
    }
   ],
   "source": [
    "class Asset(object):\n",
    "    \"\"\"Element of the communication infrastructure system,\n",
    "    e.g. base station or distribution-point unit.\n",
    "    \"\"\"\n",
    "    def __init__(self, data):\n",
    "        self.type = data[\"type\"]\n",
    "        self.pcd_sector_id = data[\"pcd_sector_id\"]\n",
    "        self.cells = data[\"cells\"]\n",
    "        self.technology = data[\"technology\"]\n",
    "        \n",
    "    def system(self):\n",
    "        grouped = itertools.groupby(self._assets, lambda x: x[\"k\"])\n",
    "        for x, y in grouped:\n",
    "            print(x,y)\n",
    "\n",
    "    for key, group in itertools.groupby(self._assets, lambda x: x[\"k\"]):\n",
    "        for whole_val in group:\n",
    "            system = key, whole_val\n",
    "                return system\n",
    "        \n",
    "    def results(self):\n",
    "        return {\"system\": {area.name: area.system() for area in self.lads.values()},"
   ]
  },
  {
   "cell_type": "code",
   "execution_count": 1,
   "metadata": {
    "collapsed": true
   },
   "outputs": [],
   "source": [
    "assets = [\n",
    "{\n",
    "\"type\": \"site\",\n",
    "\"pcd_sector_id\": 1,\n",
    "\"cells\": 3,\n",
    "\"technology\": \"LTE\"\n",
    "},\n",
    "{\n",
    "\"type\": \"site\",\n",
    "\"pcd_sector_id\": 1,\n",
    "\"cells\": 2,\n",
    "\"technology\": \"LTE-Advanced\"\n",
    "},    \n",
    "{\n",
    "\"type\": \"site\",\n",
    "\"pcd_sector_id\": 2,\n",
    "\"cells\": 5,\n",
    "\"technology\": \"LTE-Advanced\"\n",
    "},\n",
    "{\n",
    "\"type\": \"site\",\n",
    "\"pcd_sector_id\": 2,\n",
    "\"cells\": 3,\n",
    "\"technology\": \"LTE\"\n",
    "},\n",
    "{\n",
    "\"type\": \"site\",\n",
    "\"pcd_sector_id\": 3,\n",
    "\"cells\": 3,\n",
    "\"technology\": \"LTE\"\n",
    "},\n",
    "{\n",
    "\"type\": \"site\",\n",
    "\"pcd_sector_id\": 3,\n",
    "\"cells\": 5,\n",
    "\"technology\": \"LTE-Advanced\"\n",
    "}    \n",
    "]"
   ]
  },
  {
   "cell_type": "code",
   "execution_count": 2,
   "metadata": {
    "collapsed": false
   },
   "outputs": [
    {
     "name": "stdout",
     "output_type": "stream",
     "text": [
      "[{'cells': 3, 'technology': 'LTE', 'type': 'site', 'pcd_sector_id': 1}, {'cells': 2, 'technology': 'LTE-Advanced', 'type': 'site', 'pcd_sector_id': 1}, {'cells': 5, 'technology': 'LTE-Advanced', 'type': 'site', 'pcd_sector_id': 2}, {'cells': 3, 'technology': 'LTE', 'type': 'site', 'pcd_sector_id': 2}, {'cells': 3, 'technology': 'LTE', 'type': 'site', 'pcd_sector_id': 3}, {'cells': 5, 'technology': 'LTE-Advanced', 'type': 'site', 'pcd_sector_id': 3}]\n"
     ]
    }
   ],
   "source": [
    "print(assets)"
   ]
  },
  {
   "cell_type": "code",
   "execution_count": 3,
   "metadata": {
    "collapsed": true
   },
   "outputs": [],
   "source": [
    "a = [\n",
    "    {\"k\":\"a\", \"v\": 1},\n",
    "    {\"k\":\"a\", \"v\": 2},\n",
    "    {\"k\":\"b\", \"v\": 3},\n",
    "    {\"k\":\"b\", \"v\": 4}\n",
    "]"
   ]
  },
  {
   "cell_type": "code",
   "execution_count": 4,
   "metadata": {
    "collapsed": true
   },
   "outputs": [],
   "source": [
    "import itertools"
   ]
  },
  {
   "cell_type": "code",
   "execution_count": 38,
   "metadata": {
    "collapsed": false
   },
   "outputs": [
    {
     "name": "stdout",
     "output_type": "stream",
     "text": [
      "<itertools.groupby object at 0x0000000004E406D8>\n"
     ]
    }
   ],
   "source": [
    "grouped = itertools.groupby(assets, lambda x: x[\"pcd_sector_id\"])\n",
    "print(grouped)"
   ]
  },
  {
   "cell_type": "code",
   "execution_count": 39,
   "metadata": {
    "collapsed": false
   },
   "outputs": [
    {
     "name": "stdout",
     "output_type": "stream",
     "text": [
      "1 <itertools._grouper object at 0x0000000004E335C0>\n",
      "2 <itertools._grouper object at 0x0000000004E4C320>\n",
      "3 <itertools._grouper object at 0x0000000004E33198>\n"
     ]
    }
   ],
   "source": [
    "for x, y in grouped:\n",
    "    print(x,y)"
   ]
  },
  {
   "cell_type": "code",
   "execution_count": 40,
   "metadata": {
    "collapsed": false
   },
   "outputs": [
    {
     "name": "stdout",
     "output_type": "stream",
     "text": [
      "1 {'cells': 3, 'technology': 'LTE', 'pcd_sector_id': 1, 'type': 'site'}\n",
      "1 {'cells': 2, 'technology': 'LTE-Advanced', 'pcd_sector_id': 1, 'type': 'site'}\n",
      "2 {'cells': 5, 'technology': 'LTE-Advanced', 'pcd_sector_id': 2, 'type': 'site'}\n",
      "2 {'cells': 3, 'technology': 'LTE', 'pcd_sector_id': 2, 'type': 'site'}\n",
      "3 {'cells': 3, 'technology': 'LTE', 'pcd_sector_id': 3, 'type': 'site'}\n",
      "3 {'cells': 5, 'technology': 'LTE-Advanced', 'pcd_sector_id': 3, 'type': 'site'}\n"
     ]
    }
   ],
   "source": [
    "for key, group in itertools.groupby(assets, lambda x: x[\"pcd_sector_id\"]):\n",
    "    for whole_val in group:\n",
    "            print(key, whole_val)"
   ]
  },
  {
   "cell_type": "code",
   "execution_count": 6,
   "metadata": {
    "collapsed": false
   },
   "outputs": [
    {
     "ename": "TypeError",
     "evalue": "sum() takes no keyword arguments",
     "output_type": "error",
     "traceback": [
      "\u001b[0;31m---------------------------------------------------------------------------\u001b[0m",
      "\u001b[0;31mTypeError\u001b[0m                                 Traceback (most recent call last)",
      "\u001b[0;32m<ipython-input-6-d6a161dd32b1>\u001b[0m in \u001b[0;36m<module>\u001b[0;34m()\u001b[0m\n\u001b[1;32m      3\u001b[0m \u001b[0mgroups\u001b[0m \u001b[1;33m=\u001b[0m \u001b[0mitertools\u001b[0m\u001b[1;33m.\u001b[0m\u001b[0mgroupby\u001b[0m\u001b[1;33m(\u001b[0m\u001b[0msortedreader\u001b[0m\u001b[1;33m,\u001b[0m \u001b[0mkey\u001b[0m\u001b[1;33m=\u001b[0m\u001b[1;32mlambda\u001b[0m \u001b[0md\u001b[0m\u001b[1;33m:\u001b[0m \u001b[1;33m(\u001b[0m\u001b[0md\u001b[0m\u001b[1;33m[\u001b[0m\u001b[1;34m'technology'\u001b[0m\u001b[1;33m]\u001b[0m\u001b[1;33m,\u001b[0m \u001b[0md\u001b[0m\u001b[1;33m[\u001b[0m\u001b[1;34m'cells'\u001b[0m\u001b[1;33m]\u001b[0m\u001b[1;33m)\u001b[0m\u001b[1;33m)\u001b[0m\u001b[1;33m\u001b[0m\u001b[0m\n\u001b[1;32m      4\u001b[0m \u001b[1;33m\u001b[0m\u001b[0m\n\u001b[0;32m----> 5\u001b[0;31m \u001b[0mresult\u001b[0m \u001b[1;33m=\u001b[0m \u001b[1;33m[\u001b[0m\u001b[1;33m(\u001b[0m\u001b[0mk\u001b[0m\u001b[1;33m,\u001b[0m \u001b[0msum\u001b[0m\u001b[1;33m(\u001b[0m\u001b[0mg\u001b[0m\u001b[1;33m,\u001b[0m \u001b[0mkey\u001b[0m\u001b[1;33m=\u001b[0m\u001b[1;32mlambda\u001b[0m \u001b[0md\u001b[0m\u001b[1;33m:\u001b[0m \u001b[0md\u001b[0m\u001b[1;33m[\u001b[0m\u001b[1;34m'cells'\u001b[0m\u001b[1;33m]\u001b[0m\u001b[1;33m)\u001b[0m\u001b[1;33m)\u001b[0m \u001b[1;32mfor\u001b[0m \u001b[0mk\u001b[0m\u001b[1;33m,\u001b[0m \u001b[0mg\u001b[0m \u001b[1;32min\u001b[0m \u001b[0mgroups\u001b[0m\u001b[1;33m]\u001b[0m\u001b[1;33m\u001b[0m\u001b[0m\n\u001b[0m",
      "\u001b[0;32m<ipython-input-6-d6a161dd32b1>\u001b[0m in \u001b[0;36m<listcomp>\u001b[0;34m(.0)\u001b[0m\n\u001b[1;32m      3\u001b[0m \u001b[0mgroups\u001b[0m \u001b[1;33m=\u001b[0m \u001b[0mitertools\u001b[0m\u001b[1;33m.\u001b[0m\u001b[0mgroupby\u001b[0m\u001b[1;33m(\u001b[0m\u001b[0msortedreader\u001b[0m\u001b[1;33m,\u001b[0m \u001b[0mkey\u001b[0m\u001b[1;33m=\u001b[0m\u001b[1;32mlambda\u001b[0m \u001b[0md\u001b[0m\u001b[1;33m:\u001b[0m \u001b[1;33m(\u001b[0m\u001b[0md\u001b[0m\u001b[1;33m[\u001b[0m\u001b[1;34m'technology'\u001b[0m\u001b[1;33m]\u001b[0m\u001b[1;33m,\u001b[0m \u001b[0md\u001b[0m\u001b[1;33m[\u001b[0m\u001b[1;34m'cells'\u001b[0m\u001b[1;33m]\u001b[0m\u001b[1;33m)\u001b[0m\u001b[1;33m)\u001b[0m\u001b[1;33m\u001b[0m\u001b[0m\n\u001b[1;32m      4\u001b[0m \u001b[1;33m\u001b[0m\u001b[0m\n\u001b[0;32m----> 5\u001b[0;31m \u001b[0mresult\u001b[0m \u001b[1;33m=\u001b[0m \u001b[1;33m[\u001b[0m\u001b[1;33m(\u001b[0m\u001b[0mk\u001b[0m\u001b[1;33m,\u001b[0m \u001b[0msum\u001b[0m\u001b[1;33m(\u001b[0m\u001b[0mg\u001b[0m\u001b[1;33m,\u001b[0m \u001b[0mkey\u001b[0m\u001b[1;33m=\u001b[0m\u001b[1;32mlambda\u001b[0m \u001b[0md\u001b[0m\u001b[1;33m:\u001b[0m \u001b[0md\u001b[0m\u001b[1;33m[\u001b[0m\u001b[1;34m'cells'\u001b[0m\u001b[1;33m]\u001b[0m\u001b[1;33m)\u001b[0m\u001b[1;33m)\u001b[0m \u001b[1;32mfor\u001b[0m \u001b[0mk\u001b[0m\u001b[1;33m,\u001b[0m \u001b[0mg\u001b[0m \u001b[1;32min\u001b[0m \u001b[0mgroups\u001b[0m\u001b[1;33m]\u001b[0m\u001b[1;33m\u001b[0m\u001b[0m\n\u001b[0m",
      "\u001b[0;31mTypeError\u001b[0m: sum() takes no keyword arguments"
     ]
    }
   ],
   "source": [
    "results = {}\n",
    "\n",
    "for x in assets:\n",
    "\n",
    "    # default value\n",
    "    if x['technology'] not in results:\n",
    "        results[x['technology']] = {'technology': x['technology'], 'cells':0}\n",
    "\n",
    "    results[x['store']]['product1'] += x['product1']\n",
    "    results[x['store']]['product2'] += x['product2']\n",
    "    results[x['store']]['product3'] += x['product3']\n",
    "\n",
    "print results\n",
    "\n",
    "sales_per_store = results.values()\n",
    "\n",
    "print sales_per_store"
   ]
  },
  {
   "cell_type": "raw",
   "metadata": {},
   "source": [
    "from csv import DictReader \n",
    "from operator import itemgetter\n",
    "from itertools import groupby\n",
    "from collections import defaultdict, Counter"
   ]
  },
  {
   "cell_type": "code",
   "execution_count": 13,
   "metadata": {
    "collapsed": false
   },
   "outputs": [
    {
     "name": "stdout",
     "output_type": "stream",
     "text": [
      "['Region,City,Sales', 'Scotland,Edinburgh,20000', 'Scotland,Glasgow,12500', 'Wales,Cardiff,29700', 'Wales,Bangor,12800', 'England,London,90000', 'England,Manchester,45600', 'England,Liverpool,29700']\n"
     ]
    }
   ],
   "source": [
    "rawdata = '''\n",
    "Region,City,Sales\n",
    "Scotland,Edinburgh,20000\n",
    "Scotland,Glasgow,12500\n",
    "Wales,Cardiff,29700\n",
    "Wales,Bangor,12800\n",
    "England,London,90000\n",
    "England,Manchester,45600\n",
    "England,Liverpool,29700\n",
    "'''.splitlines()[1:]\n",
    "\n",
    "print(rawdata)"
   ]
  },
  {
   "cell_type": "code",
   "execution_count": 14,
   "metadata": {
    "collapsed": false
   },
   "outputs": [
    {
     "ename": "NameError",
     "evalue": "name 'DictReader' is not defined",
     "output_type": "error",
     "traceback": [
      "\u001b[0;31m---------------------------------------------------------------------------\u001b[0m",
      "\u001b[0;31mNameError\u001b[0m                                 Traceback (most recent call last)",
      "\u001b[0;32m<ipython-input-14-32f274f6ece9>\u001b[0m in \u001b[0;36m<module>\u001b[0;34m()\u001b[0m\n\u001b[0;32m----> 1\u001b[0;31m \u001b[0mindata\u001b[0m \u001b[1;33m=\u001b[0m \u001b[0mlist\u001b[0m\u001b[1;33m(\u001b[0m\u001b[0mDictReader\u001b[0m\u001b[1;33m(\u001b[0m\u001b[0mrawdata\u001b[0m\u001b[1;33m)\u001b[0m\u001b[1;33m)\u001b[0m\u001b[1;33m\u001b[0m\u001b[0m\n\u001b[0m\u001b[1;32m      2\u001b[0m \u001b[0mprint\u001b[0m\u001b[1;33m(\u001b[0m\u001b[0mindata\u001b[0m\u001b[1;33m)\u001b[0m\u001b[1;33m\u001b[0m\u001b[0m\n",
      "\u001b[0;31mNameError\u001b[0m: name 'DictReader' is not defined"
     ]
    }
   ],
   "source": [
    "indata = list(DictReader(rawdata))\n",
    "print(indata)"
   ]
  },
  {
   "cell_type": "code",
   "execution_count": null,
   "metadata": {
    "collapsed": true
   },
   "outputs": [],
   "source": []
  },
  {
   "cell_type": "code",
   "execution_count": null,
   "metadata": {
    "collapsed": true
   },
   "outputs": [],
   "source": []
  },
  {
   "cell_type": "code",
   "execution_count": null,
   "metadata": {
    "collapsed": true
   },
   "outputs": [],
   "source": []
  },
  {
   "cell_type": "code",
   "execution_count": null,
   "metadata": {
    "collapsed": true
   },
   "outputs": [],
   "source": [
    "#How to do aggregates using groupby, defaultdict and Counter on flat files\n",
    "#This Example computes\n",
    "print('Using sort and groupby:')\n",
    "counts = []\n",
    "sums = []\n",
    "avgs = []\n",
    "maxs = []\n",
    "mins = []\n",
    "ordered_data = sorted(indata, key=itemgetter('Region'))\n",
    "for region, group in groupby(ordered_data, key=itemgetter('Region')):\n",
    "    group_list = list(group)\n",
    "    count = sum(1 for city in group_list)\n",
    "    total = sum(int(city['Sales']) for city in group_list)\n",
    "    maxsale = max(int(city['Sales']) for city in group_list)\n",
    "    minsale = min(int(city['Sales']) for city in group_list)\n",
    "    counts.append((region, count))\n",
    "    sums.append((region, total))\n",
    "    avgs.append((region, total/count))\n",
    "    maxs.append((region, maxsale))\n",
    "    mins.append((region, minsale))\n",
    "print('count:',counts, '\\nsum:',sums, '\\navg:',avgs,\n",
    "      '\\nmax:',maxs, '\\nmin:',mins, '\\n')\n",
    "\n",
    "print('Using defaultdict:')\n",
    "dd_counts = defaultdict(int)\n",
    "dd_sales = defaultdict(int)\n",
    "dd_maxs = defaultdict(int)\n",
    "dd_mins = defaultdict(lambda: 9**99)\n",
    "for row in indata:\n",
    "    region = row['Region']\n",
    "    sales = int(row['Sales'])\n",
    "    dd_counts[region] += 1\n",
    "    dd_sales[region] += sales\n",
    "    dd_maxs[region] = max(dd_maxs[region], sales)\n",
    "    dd_mins[region] = min(dd_mins[region], sales)\n",
    "counts = list(dd_counts.items())\n",
    "sums = list(dd_sales.items())\n",
    "avgs = [(key, dd_sales[key]/count) for key, count in dd_counts.items()]\n",
    "maxs = list(dd_maxs.items())\n",
    "mins = list(dd_mins.items())\n",
    "print('count:',counts, '\\nsum:',sums, '\\navg:',avgs,\n",
    "      '\\nmax:',maxs, '\\nmin:',mins, '\\n')\n",
    "\n",
    "print('Using counter:')\n",
    "counts = list(Counter(map(itemgetter('Region'), indata)).items())\n",
    "print('count:',counts)"
   ]
  },
  {
   "cell_type": "code",
   "execution_count": null,
   "metadata": {
    "collapsed": true
   },
   "outputs": [],
   "source": []
  },
  {
   "cell_type": "code",
   "execution_count": null,
   "metadata": {
    "collapsed": true
   },
   "outputs": [],
   "source": []
  }
 ],
 "metadata": {
  "anaconda-cloud": {},
  "kernelspec": {
   "display_name": "Python [conda root]",
   "language": "python",
   "name": "conda-root-py"
  },
  "language_info": {
   "codemirror_mode": {
    "name": "ipython",
    "version": 3
   },
   "file_extension": ".py",
   "mimetype": "text/x-python",
   "name": "python",
   "nbconvert_exporter": "python",
   "pygments_lexer": "ipython3",
   "version": "3.5.2"
  }
 },
 "nbformat": 4,
 "nbformat_minor": 1
}
