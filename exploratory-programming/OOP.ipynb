{
 "cells": [
  {
   "cell_type": "code",
   "execution_count": 4,
   "metadata": {
    "collapsed": false
   },
   "outputs": [
    {
     "ename": "SyntaxError",
     "evalue": "invalid syntax (<ipython-input-4-19fdf943c80b>, line 28)",
     "output_type": "error",
     "traceback": [
      "\u001b[0;36m  File \u001b[0;32m\"<ipython-input-4-19fdf943c80b>\"\u001b[0;36m, line \u001b[0;32m28\u001b[0m\n\u001b[0;31m    class Telex(object)\u001b[0m\n\u001b[0m                               ^\u001b[0m\n\u001b[0;31mSyntaxError\u001b[0m\u001b[0;31m:\u001b[0m invalid syntax\n"
     ]
    }
   ],
   "source": [
    "import panda as pd\n",
    "\n",
    "class ICTManager(object):\n",
    "    def __init__(self, year, strategy, scenario):\n",
    "        self._year = year\n",
    "        self._strategy = strategy\n",
    "        self._scenario = scenario\n",
    "        \n",
    "    def manageCoverage(self, a):\n",
    "        return self._year + 1\n",
    "    \n",
    "    def calcCoverage(self):\n",
    "        pass\n",
    "    \n",
    "\n",
    "        \n",
    "class ITCGenerator(object):\n",
    "    def __init__(self, data):\n",
    "        self._data = data\n",
    "        self.data_list = []\n",
    "        \n",
    "    def csv2object():\n",
    "        \n",
    "        for idx, row in data.iterrows():\n",
    "            # row[['id', 'name', ..]]\n",
    "            data_list.append(Telex(row))\n",
    "            \n",
    "class Telex(object):\n",
    "    def __init__(self, row):\n",
    "        \n",
    "        if not isinstance(row, pd.Series):\n",
    "            raise ValueError('data must be a row of a pandas dataframe (Series)')\n",
    "            \n",
    "        self._id = row['id']\n",
    "        seff._name = row['name']\n",
    "        \n",
    "    def calcCost():\n",
    "        self._id\n",
    "\n",
    "    \n",
    "sample1 = ICTManager(2017, 'a', 'b')\n",
    "\n",
    "print(sample1.manageCoverage(3))"
   ]
  },
  {
   "cell_type": "code",
   "execution_count": null,
   "metadata": {
    "collapsed": true
   },
   "outputs": [],
   "source": []
  }
 ],
 "metadata": {
  "anaconda-cloud": {},
  "kernelspec": {
   "display_name": "Python [conda root]",
   "language": "python",
   "name": "conda-root-py"
  },
  "language_info": {
   "codemirror_mode": {
    "name": "ipython",
    "version": 3
   },
   "file_extension": ".py",
   "mimetype": "text/x-python",
   "name": "python",
   "nbconvert_exporter": "python",
   "pygments_lexer": "ipython3",
   "version": "3.5.2"
  }
 },
 "nbformat": 4,
 "nbformat_minor": 1
}
